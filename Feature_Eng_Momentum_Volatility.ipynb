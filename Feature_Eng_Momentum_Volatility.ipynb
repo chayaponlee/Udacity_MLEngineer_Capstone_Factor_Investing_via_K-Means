{
 "cells": [
  {
   "cell_type": "markdown",
   "metadata": {},
   "source": [
    "# This notebook illustrates feature engineering on constructing our techincal faactors"
   ]
  },
  {
   "cell_type": "code",
   "execution_count": 1,
   "metadata": {
    "scrolled": true
   },
   "outputs": [
    {
     "name": "stdout",
     "output_type": "stream",
     "text": [
      "[2020-10-28 15:30:50.567520] WARNING: Norgate Data: **PACKAGE VERSION WARNING*** You have version (1.0.31) of the norgatedata package installed.  A newer version 1.0.48 is available and is a recommended upgraded.\n",
      "[2020-10-28 15:30:50.568546] INFO: Norgate Data: NorgateData package v1.0.31: Init complete\n"
     ]
    }
   ],
   "source": [
    "import numpy as np\n",
    "import pandas as pd\n",
    "import norgatedata \n",
    "import datetime\n",
    "import pickle\n",
    "import matplotlib.pyplot as plt\n",
    "%matplotlib inline "
   ]
  },
  {
   "cell_type": "code",
   "execution_count": 3,
   "metadata": {},
   "outputs": [],
   "source": [
    "path = 'D:/Udacity/final/'"
   ]
  },
  {
   "cell_type": "markdown",
   "metadata": {},
   "source": [
    "importing data"
   ]
  },
  {
   "cell_type": "code",
   "execution_count": 7,
   "metadata": {},
   "outputs": [],
   "source": [
    "russell_constituent = pd.read_csv(path + 'russell_constituent_pre_1.csv',parse_dates=True,index_col = 0)\n",
    "russell_volume = pd.read_csv(path + 'russell_volume_pre_1.csv',parse_dates=True,index_col = 0)\n",
    "russell_prices = pd.read_csv(path + 'russell_prices_pre_1.csv',parse_dates=True,index_col = 0)\n",
    "russell_roic = pd.read_csv(path + 'russell_roic_pre_f.csv',parse_dates=True,index_col = 0)"
   ]
  },
  {
   "cell_type": "code",
   "execution_count": 8,
   "metadata": {},
   "outputs": [
    {
     "data": {
      "text/plain": [
       "(4719, 6729)"
      ]
     },
     "execution_count": 8,
     "metadata": {},
     "output_type": "execute_result"
    }
   ],
   "source": [
    "russell_volume.shape\n"
   ]
  },
  {
   "cell_type": "code",
   "execution_count": 9,
   "metadata": {},
   "outputs": [
    {
     "data": {
      "text/plain": [
       "(4719, 6729)"
      ]
     },
     "execution_count": 9,
     "metadata": {},
     "output_type": "execute_result"
    }
   ],
   "source": [
    "russell_constituent.shape"
   ]
  },
  {
   "cell_type": "code",
   "execution_count": 15,
   "metadata": {},
   "outputs": [
    {
     "data": {
      "text/plain": [
       "(4719, 6729)"
      ]
     },
     "execution_count": 15,
     "metadata": {},
     "output_type": "execute_result"
    }
   ],
   "source": [
    "russell_prices.shape"
   ]
  },
  {
   "cell_type": "code",
   "execution_count": 13,
   "metadata": {},
   "outputs": [
    {
     "data": {
      "text/plain": [
       "(4719, 6728)"
      ]
     },
     "execution_count": 13,
     "metadata": {},
     "output_type": "execute_result"
    }
   ],
   "source": [
    "russell_roic.shape"
   ]
  },
  {
   "cell_type": "markdown",
   "metadata": {},
   "source": [
    "inspecting our shape tells us that there is one symbol missing"
   ]
  },
  {
   "cell_type": "code",
   "execution_count": 16,
   "metadata": {},
   "outputs": [],
   "source": [
    "russell_volume = russell_volume[russell_roic.columns]"
   ]
  },
  {
   "cell_type": "code",
   "execution_count": 17,
   "metadata": {},
   "outputs": [],
   "source": [
    "russell_constituent = russell_constituent[russell_roic.columns]"
   ]
  },
  {
   "cell_type": "code",
   "execution_count": 18,
   "metadata": {},
   "outputs": [],
   "source": [
    "russell_prices = russell_prices[russell_roic.columns]"
   ]
  },
  {
   "cell_type": "markdown",
   "metadata": {},
   "source": [
    "we take the average 200 day volume"
   ]
  },
  {
   "cell_type": "code",
   "execution_count": 22,
   "metadata": {},
   "outputs": [],
   "source": [
    "russell_volume_avg200 = russell_volume.rolling(200).mean()"
   ]
  },
  {
   "cell_type": "markdown",
   "metadata": {},
   "source": [
    "selecting only symbols that existed in russell_prices"
   ]
  },
  {
   "cell_type": "code",
   "execution_count": 24,
   "metadata": {},
   "outputs": [],
   "source": [
    "russell_volume.to_csv(path + 'russell_volume_pre_f.csv')\n",
    "russell_constituent.to_csv(path + 'russell_constituent_pre_f.csv')\n",
    "russell_prices.to_csv(path + 'russell_prices_pre_f.csv')\n",
    "russell_volume_avg200.to_csv(path + 'russell_volume_avg200.csv')"
   ]
  },
  {
   "cell_type": "code",
   "execution_count": 26,
   "metadata": {},
   "outputs": [],
   "source": [
    "\n",
    "def compute_lag_returns_nolog(prices_df,lag_n=6):\n",
    "    \"\"\"\n",
    "    Compute lag returns for each ticker.\n",
    "   \n",
    "    Parameters\n",
    "    ----------\n",
    "    prices : DataFrame\n",
    "        Prices for each ticker and date\n",
    "   \n",
    "    Returns\n",
    "    -------\n",
    "    log_returns : DataFrame\n",
    "        Log returns for each ticker and date\n",
    "    \"\"\"\n",
    "    prices = prices_df.copy()\n",
    "    log_returns = prices/prices.shift(lag_n) - 1\n",
    "    return log_returns\n",
    "\n"
   ]
  },
  {
   "cell_type": "markdown",
   "metadata": {},
   "source": [
    "6 month and 12 month returns skip one month. so have to first calculate 5 and 11 month returns and then shift it 21 days. Notice we ffill stuff, since there are null values, probably due to some reasons that data cannot be reported. "
   ]
  },
  {
   "cell_type": "code",
   "execution_count": 27,
   "metadata": {},
   "outputs": [],
   "source": [
    "russell_ret6  = compute_lag_returns_nolog(russell_prices.ffill(),lag_n=106).shift(21)"
   ]
  },
  {
   "cell_type": "code",
   "execution_count": 28,
   "metadata": {},
   "outputs": [],
   "source": [
    "russell_vol100 = compute_lag_returns_nolog(russell_prices.ffill(),lag_n=1).rolling(100).std()"
   ]
  },
  {
   "cell_type": "code",
   "execution_count": 31,
   "metadata": {},
   "outputs": [],
   "source": [
    "russell_ret6.to_csv('russell_ret6_f.csv')\n",
    "\n",
    "russell_vol100.to_csv('russell_vol100_f.csv') "
   ]
  },
  {
   "cell_type": "code",
   "execution_count": null,
   "metadata": {},
   "outputs": [],
   "source": []
  }
 ],
 "metadata": {
  "kernelspec": {
   "display_name": "Python 3",
   "language": "python",
   "name": "python3"
  },
  "language_info": {
   "codemirror_mode": {
    "name": "ipython",
    "version": 3
   },
   "file_extension": ".py",
   "mimetype": "text/x-python",
   "name": "python",
   "nbconvert_exporter": "python",
   "pygments_lexer": "ipython3",
   "version": "3.7.3"
  }
 },
 "nbformat": 4,
 "nbformat_minor": 2
}

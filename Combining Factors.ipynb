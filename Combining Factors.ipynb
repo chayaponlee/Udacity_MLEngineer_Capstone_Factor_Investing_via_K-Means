{
 "cells": [
  {
   "cell_type": "markdown",
   "metadata": {},
   "source": [
    "# This notebook combines all factors into a single dataframe"
   ]
  },
  {
   "cell_type": "code",
   "execution_count": 8,
   "metadata": {},
   "outputs": [],
   "source": [
    "import numpy as np\n",
    "import pandas as pd\n",
    "import norgatedata \n",
    "import datetime\n",
    "import pickle\n",
    "import matplotlib.pyplot as plt\n",
    "import warnings\n",
    "warnings.filterwarnings('ignore')\n",
    "%matplotlib inline "
   ]
  },
  {
   "cell_type": "code",
   "execution_count": 9,
   "metadata": {},
   "outputs": [],
   "source": [
    "path = 'D:/Udacity/final/'"
   ]
  },
  {
   "cell_type": "markdown",
   "metadata": {},
   "source": [
    "import val,vol,qua,mom factors"
   ]
  },
  {
   "cell_type": "code",
   "execution_count": 11,
   "metadata": {},
   "outputs": [],
   "source": [
    "russell_ret6 = pd.read_csv(path + 'russell_ret6_f.csv',parse_dates=True,index_col = 0)\n",
    "russell_vol100 = pd.read_csv(path + 'russell_vol100_f.csv',parse_dates=True,index_col = 0)\n",
    "russell_ebitev = pd.read_csv(path + 'russell_ebitev_pre_f.csv',parse_dates=True,index_col = 0)\n",
    "russell_roic = pd.read_csv(path + 'russell_roic_pre_f.csv',parse_dates=True,index_col = 0)"
   ]
  },
  {
   "cell_type": "markdown",
   "metadata": {},
   "source": [
    "checking our shape again"
   ]
  },
  {
   "cell_type": "code",
   "execution_count": 12,
   "metadata": {},
   "outputs": [
    {
     "data": {
      "text/plain": [
       "(4719, 6728)"
      ]
     },
     "execution_count": 12,
     "metadata": {},
     "output_type": "execute_result"
    }
   ],
   "source": [
    "russell_ret6.shape"
   ]
  },
  {
   "cell_type": "code",
   "execution_count": 14,
   "metadata": {
    "scrolled": true
   },
   "outputs": [
    {
     "data": {
      "text/plain": [
       "(4719, 6728)"
      ]
     },
     "execution_count": 14,
     "metadata": {},
     "output_type": "execute_result"
    }
   ],
   "source": [
    "russell_vol100.shape"
   ]
  },
  {
   "cell_type": "code",
   "execution_count": 15,
   "metadata": {},
   "outputs": [
    {
     "data": {
      "text/plain": [
       "(4719, 6728)"
      ]
     },
     "execution_count": 15,
     "metadata": {},
     "output_type": "execute_result"
    }
   ],
   "source": [
    "russell_ebitev.shape"
   ]
  },
  {
   "cell_type": "code",
   "execution_count": 16,
   "metadata": {},
   "outputs": [
    {
     "data": {
      "text/plain": [
       "(4719, 6728)"
      ]
     },
     "execution_count": 16,
     "metadata": {},
     "output_type": "execute_result"
    }
   ],
   "source": [
    "russell_roic.shape"
   ]
  },
  {
   "cell_type": "markdown",
   "metadata": {},
   "source": [
    "Forming a multi index starting with date and factor keys"
   ]
  },
  {
   "cell_type": "code",
   "execution_count": 17,
   "metadata": {},
   "outputs": [],
   "source": [
    "factor_df = pd.concat([russell_ret6,russell_vol100,russell_ebitev,russell_roic],keys = ['mom','vol','val','qua'])"
   ]
  },
  {
   "cell_type": "code",
   "execution_count": 18,
   "metadata": {},
   "outputs": [],
   "source": [
    "factor_df = factor_df.swaplevel(0,1,axis=0).sort_index()"
   ]
  },
  {
   "cell_type": "markdown",
   "metadata": {},
   "source": [
    "using only data from 2003 onwards, since the first year would contain nulls because of moving averages transformations"
   ]
  },
  {
   "cell_type": "code",
   "execution_count": 20,
   "metadata": {
    "scrolled": true
   },
   "outputs": [],
   "source": [
    "\n",
    "factor_df = factor_df.loc['2003-01-02':]"
   ]
  },
  {
   "cell_type": "code",
   "execution_count": 21,
   "metadata": {},
   "outputs": [],
   "source": [
    "factor_df.to_csv(path + 'factor_df_f.csv')"
   ]
  },
  {
   "cell_type": "code",
   "execution_count": 26,
   "metadata": {},
   "outputs": [
    {
     "data": {
      "text/html": [
       "<div>\n",
       "<style scoped>\n",
       "    .dataframe tbody tr th:only-of-type {\n",
       "        vertical-align: middle;\n",
       "    }\n",
       "\n",
       "    .dataframe tbody tr th {\n",
       "        vertical-align: top;\n",
       "    }\n",
       "\n",
       "    .dataframe thead th {\n",
       "        text-align: right;\n",
       "    }\n",
       "</style>\n",
       "<table border=\"1\" class=\"dataframe\">\n",
       "  <thead>\n",
       "    <tr style=\"text-align: right;\">\n",
       "      <th></th>\n",
       "      <th></th>\n",
       "      <th>A</th>\n",
       "      <th>AA</th>\n",
       "      <th>AACC-201306</th>\n",
       "      <th>AACE-200610</th>\n",
       "      <th>AACH</th>\n",
       "      <th>AAI-201105</th>\n",
       "      <th>AAIIQ-200603</th>\n",
       "      <th>AAL</th>\n",
       "      <th>AAMC</th>\n",
       "      <th>AAMRQ-201312</th>\n",
       "      <th>...</th>\n",
       "      <th>ZS</th>\n",
       "      <th>ZSPH-201512</th>\n",
       "      <th>ZTS</th>\n",
       "      <th>ZU-201509</th>\n",
       "      <th>ZUMZ</th>\n",
       "      <th>ZUO</th>\n",
       "      <th>ZVO</th>\n",
       "      <th>ZYNE</th>\n",
       "      <th>ZYXI</th>\n",
       "      <th>ZZ-201303</th>\n",
       "    </tr>\n",
       "    <tr>\n",
       "      <th>Date</th>\n",
       "      <th></th>\n",
       "      <th></th>\n",
       "      <th></th>\n",
       "      <th></th>\n",
       "      <th></th>\n",
       "      <th></th>\n",
       "      <th></th>\n",
       "      <th></th>\n",
       "      <th></th>\n",
       "      <th></th>\n",
       "      <th></th>\n",
       "      <th></th>\n",
       "      <th></th>\n",
       "      <th></th>\n",
       "      <th></th>\n",
       "      <th></th>\n",
       "      <th></th>\n",
       "      <th></th>\n",
       "      <th></th>\n",
       "      <th></th>\n",
       "      <th></th>\n",
       "      <th></th>\n",
       "    </tr>\n",
       "  </thead>\n",
       "  <tbody>\n",
       "    <tr>\n",
       "      <th rowspan=\"4\" valign=\"top\">2010-01-04</th>\n",
       "      <th>mom</th>\n",
       "      <td>0.495436</td>\n",
       "      <td>NaN</td>\n",
       "      <td>-0.207497</td>\n",
       "      <td>0.000000</td>\n",
       "      <td>NaN</td>\n",
       "      <td>-0.197731</td>\n",
       "      <td>0.000000e+00</td>\n",
       "      <td>NaN</td>\n",
       "      <td>NaN</td>\n",
       "      <td>0.609005</td>\n",
       "      <td>...</td>\n",
       "      <td>NaN</td>\n",
       "      <td>NaN</td>\n",
       "      <td>NaN</td>\n",
       "      <td>NaN</td>\n",
       "      <td>0.427665</td>\n",
       "      <td>NaN</td>\n",
       "      <td>-0.023286</td>\n",
       "      <td>NaN</td>\n",
       "      <td>0.231579</td>\n",
       "      <td>0.538889</td>\n",
       "    </tr>\n",
       "    <tr>\n",
       "      <th>qua</th>\n",
       "      <td>0.023000</td>\n",
       "      <td>NaN</td>\n",
       "      <td>0.043000</td>\n",
       "      <td>0.739000</td>\n",
       "      <td>NaN</td>\n",
       "      <td>0.042000</td>\n",
       "      <td>-2.570000e-01</td>\n",
       "      <td>NaN</td>\n",
       "      <td>NaN</td>\n",
       "      <td>-0.031000</td>\n",
       "      <td>...</td>\n",
       "      <td>NaN</td>\n",
       "      <td>NaN</td>\n",
       "      <td>NaN</td>\n",
       "      <td>NaN</td>\n",
       "      <td>0.056000</td>\n",
       "      <td>NaN</td>\n",
       "      <td>NaN</td>\n",
       "      <td>NaN</td>\n",
       "      <td>NaN</td>\n",
       "      <td>0.039000</td>\n",
       "    </tr>\n",
       "    <tr>\n",
       "      <th>val</th>\n",
       "      <td>0.010223</td>\n",
       "      <td>NaN</td>\n",
       "      <td>0.074602</td>\n",
       "      <td>0.130589</td>\n",
       "      <td>NaN</td>\n",
       "      <td>0.067231</td>\n",
       "      <td>-1.938734e+00</td>\n",
       "      <td>NaN</td>\n",
       "      <td>NaN</td>\n",
       "      <td>-0.058454</td>\n",
       "      <td>...</td>\n",
       "      <td>NaN</td>\n",
       "      <td>NaN</td>\n",
       "      <td>NaN</td>\n",
       "      <td>NaN</td>\n",
       "      <td>0.027158</td>\n",
       "      <td>NaN</td>\n",
       "      <td>NaN</td>\n",
       "      <td>NaN</td>\n",
       "      <td>NaN</td>\n",
       "      <td>0.040089</td>\n",
       "    </tr>\n",
       "    <tr>\n",
       "      <th>vol</th>\n",
       "      <td>0.016846</td>\n",
       "      <td>NaN</td>\n",
       "      <td>0.032986</td>\n",
       "      <td>0.000000</td>\n",
       "      <td>NaN</td>\n",
       "      <td>0.036512</td>\n",
       "      <td>2.699878e-09</td>\n",
       "      <td>NaN</td>\n",
       "      <td>NaN</td>\n",
       "      <td>0.045389</td>\n",
       "      <td>...</td>\n",
       "      <td>NaN</td>\n",
       "      <td>NaN</td>\n",
       "      <td>NaN</td>\n",
       "      <td>NaN</td>\n",
       "      <td>0.039942</td>\n",
       "      <td>NaN</td>\n",
       "      <td>0.034776</td>\n",
       "      <td>NaN</td>\n",
       "      <td>0.052390</td>\n",
       "      <td>0.035665</td>\n",
       "    </tr>\n",
       "  </tbody>\n",
       "</table>\n",
       "<p>4 rows × 6728 columns</p>\n",
       "</div>"
      ],
      "text/plain": [
       "                       A  AA  AACC-201306  AACE-200610  AACH  AAI-201105  \\\n",
       "Date                                                                       \n",
       "2010-01-04 mom  0.495436 NaN    -0.207497     0.000000   NaN   -0.197731   \n",
       "           qua  0.023000 NaN     0.043000     0.739000   NaN    0.042000   \n",
       "           val  0.010223 NaN     0.074602     0.130589   NaN    0.067231   \n",
       "           vol  0.016846 NaN     0.032986     0.000000   NaN    0.036512   \n",
       "\n",
       "                AAIIQ-200603  AAL  AAMC  AAMRQ-201312  ...  ZS  ZSPH-201512  \\\n",
       "Date                                                   ...                    \n",
       "2010-01-04 mom  0.000000e+00  NaN   NaN      0.609005  ... NaN          NaN   \n",
       "           qua -2.570000e-01  NaN   NaN     -0.031000  ... NaN          NaN   \n",
       "           val -1.938734e+00  NaN   NaN     -0.058454  ... NaN          NaN   \n",
       "           vol  2.699878e-09  NaN   NaN      0.045389  ... NaN          NaN   \n",
       "\n",
       "                ZTS  ZU-201509      ZUMZ  ZUO       ZVO  ZYNE      ZYXI  \\\n",
       "Date                                                                      \n",
       "2010-01-04 mom  NaN        NaN  0.427665  NaN -0.023286   NaN  0.231579   \n",
       "           qua  NaN        NaN  0.056000  NaN       NaN   NaN       NaN   \n",
       "           val  NaN        NaN  0.027158  NaN       NaN   NaN       NaN   \n",
       "           vol  NaN        NaN  0.039942  NaN  0.034776   NaN  0.052390   \n",
       "\n",
       "                ZZ-201303  \n",
       "Date                       \n",
       "2010-01-04 mom   0.538889  \n",
       "           qua   0.039000  \n",
       "           val   0.040089  \n",
       "           vol   0.035665  \n",
       "\n",
       "[4 rows x 6728 columns]"
      ]
     },
     "execution_count": 26,
     "metadata": {},
     "output_type": "execute_result"
    }
   ],
   "source": [
    "factor_df.loc['2010-01-04']"
   ]
  },
  {
   "cell_type": "code",
   "execution_count": null,
   "metadata": {},
   "outputs": [],
   "source": []
  }
 ],
 "metadata": {
  "kernelspec": {
   "display_name": "Python 3",
   "language": "python",
   "name": "python3"
  },
  "language_info": {
   "codemirror_mode": {
    "name": "ipython",
    "version": 3
   },
   "file_extension": ".py",
   "mimetype": "text/x-python",
   "name": "python",
   "nbconvert_exporter": "python",
   "pygments_lexer": "ipython3",
   "version": "3.7.3"
  }
 },
 "nbformat": 4,
 "nbformat_minor": 2
}
